{
    "cells": [
        {
            "cell_type": "markdown",
            "metadata": {
                "collapsed": true
            },
            "source": "## Data Section"
        },
        {
            "cell_type": "markdown",
            "metadata": {},
            "source": "### Data Description including Data Sources:"
        },
        {
            "cell_type": "markdown",
            "metadata": {},
            "source": "#### A)"
        },
        {
            "cell_type": "markdown",
            "metadata": {},
            "source": "In order to analyze the population density by neighborhood and borough to determine which neighborhoods have the highest population density, we will need a couple of resources:\n\n1.\tWe will need New York City population data for 2020 by borough. This will need to include information by borough, age over 65, school age children. This can be obtained in the form of a csv file from \nhttps://data.cityofnewyork.us/City-Government/2020-population/t8c6-3i7b\nThis will give us a good idea of the population composition in terms of greatest risk  and will allow us to determine which boroughs have the highest population.\n\n2.\tIn addition, we will need New York City population information by neighborhoods. This will include the neighborhood name, borough and population and can be obtained from \nhttps://data.cityofnewyork.us/City-Government/New-York-City-Population-By-Neighborhood-Tabulatio/swpk-hqdp/data\nThis will give us an insight of which neighborhoods within each borough having the highest populations.\n"
        },
        {
            "cell_type": "markdown",
            "metadata": {},
            "source": "#### B)"
        },
        {
            "cell_type": "markdown",
            "metadata": {},
            "source": "In order to analyze the Covid-19 cases by neighborhood and borough to determine which ones were the hardest hit we will need to get data from a number of sources:\n\n1.\tWe will need New York City Covid-19 case data by neighborhood and boroughs. This will need to include the number of cases, the number who tested positive as well as the number of Covid-19 deaths. This data also includes the zip codes of the neighborhoods. This data can be obtained in the form of a csv file from github on nychealth-coronavirus-data.\nhttps://github.com/nychealth/coronavirus-data/blob/master/data-by-modzcta.csv\nThis will give us a breakdown of the Covid-19 cases by neighborhood.\n\n2.\tWe will need the US zip code Latitude and Longitude file in the form of a csv file in order to determine the corresponding latitude and longitude of the various New York City neighborhoods.\nhttps://public.opendatasoft.com/explore/dataset/us-zip-code-latitude-and-longitude/export/?refine.state=NY\n"
        },
        {
            "cell_type": "markdown",
            "metadata": {},
            "source": "#### C)"
        },
        {
            "cell_type": "markdown",
            "metadata": {},
            "source": "In order to analyze and examine where the hospitals are located within the five boroughs and to determine if it would make sense to add another hospital to an area of the city where the cases have been highest, we will need to get data from a number of different sources:\n\n1.\tWe will need data on all the hospitals located in the five boroughs of New York City. This data can be obtained from https://www.newyorkled.com/nyc-hospitals-map-and-list/ in the form of a geoJSON file.\n\n2.\tWe will also need the information on the staffed beds for each hospital in New York City. This data will come from the Individual Hospital Statistics for New York. It includes hospital name, staffed beds and city name for all hospitals in New York State. We will only need the data for New York City hospitals. This data can be obtained from https://www.ahd.com/states/hospital_NY.html It will need to be converted into an excel or csv file.\n\n3.\tWe will need to use the Foursquare API to explore and segment the boroughs to examine the hospital locations that already exist with their bed capacity in order to determine where one might be needed to serve the residents of New York City better. \n\n4.\tWe will use Folium to visualize the results.\n"
        }
    ],
    "metadata": {
        "kernelspec": {
            "display_name": "Python 3.6",
            "language": "python",
            "name": "python3"
        },
        "language_info": {
            "codemirror_mode": {
                "name": "ipython",
                "version": 3
            },
            "file_extension": ".py",
            "mimetype": "text/x-python",
            "name": "python",
            "nbconvert_exporter": "python",
            "pygments_lexer": "ipython3",
            "version": "3.6.9"
        }
    },
    "nbformat": 4,
    "nbformat_minor": 1
}