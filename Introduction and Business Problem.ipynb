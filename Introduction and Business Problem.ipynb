{
    "cells": [
        {
            "cell_type": "markdown",
            "metadata": {
                "collapsed": true
            },
            "source": "# Introduction"
        },
        {
            "cell_type": "markdown",
            "metadata": {},
            "source": "## Discussion and Description of the Problem:"
        },
        {
            "cell_type": "markdown",
            "metadata": {},
            "source": "New York City \u2013 there is no place quite like it! Even if you think you know New York City well - the world class museums, \namazing food and unforgettable views - there is always something new and exciting to discover. Thrilling shows, fabulous \nshopping, and first-rate sports draw visitors from around the globe to the world's entertainment capital. With some of the \nbusiest airports in the world it is a global destination. New York City is the largest city in the United States and with a \npopulation of 8,550,971 in 2020 it is also the most densely populated major city in the country. New York City is composed \nof 5 boroughs: The Bronx, Brooklyn, Manhattan, Queens, and Staten Island. \n\nIn early 2020, New York City was struck by the novel coronavirus pandemic known as Covid-19.  March 1 saw the first confirmed \ncase of COVID-19 in New York State, a 39-year-old woman who lived in Manhattan. As of June 1, New York City\u2019s confirmed cases \nwere 200,830 and New York City deaths were 21,607. \u201cDeaths\u201d include test-confirmed cases as well as those with \u201cCOVID-19\u201d or \nequivalent listed on the death certificate. The most brutal toll came among those who were old, poor and in the outer boroughs. \nThe city\u2019s deaths are 10 times those of Los Angeles County\u2019s. They have surpassed the 16,000 lives lost in Italy\u2019s hard-hit \nLombardy region. In the U.K., eight times as populous as New York City, about 37,500 have died. With New York\u2019s outbreak \neclipsing others around the world, it is logical to look into and analyze the population density by neighborhood and borough \nas well as the Covid-19 cases by neighborhood and borough to determine which ones were the hardest hit. Based on information \nprovided by the New York City Department of Health and Mental Hygiene, the governor\u2019s office, The COVID Tracking Project, and \nthe Center for Systems Science and Engineering at Johns Hopkins University, THE CITY is tracking hospital bed and intensive \ncare unit availability in New York City, including efforts to increase capacity. As of March 28, New York State had about \n53,000 hospital beds across the state, with 3,000 ICU beds. New York Governor Andrew Cuomo estimated that the state will need\n140,000 beds and asked President Trump to authorize four additional hospital sites. In the context of the population density, \nthe number of cases  as well as deaths it also seems logical to examine where the hospitals are located within the five boroughs\nand to also determine if it would be a good idea to add a new hospital to an area of the city where the cases have been highest\nand is being underserved at the current time in the event of future pandemics. \n"
        },
        {
            "cell_type": "markdown",
            "metadata": {},
            "source": "## Project Interest:"
        },
        {
            "cell_type": "markdown",
            "metadata": {},
            "source": "This information and analysis would be beneficial to New York City residents, New York State government agencies including New York State Department of Health, New York State and City Planning authorities as well as Federal agencies like Department of Health and Human Services."
        }
    ],
    "metadata": {
        "kernelspec": {
            "display_name": "Python 3.6",
            "language": "python",
            "name": "python3"
        },
        "language_info": {
            "codemirror_mode": {
                "name": "ipython",
                "version": 3
            },
            "file_extension": ".py",
            "mimetype": "text/x-python",
            "name": "python",
            "nbconvert_exporter": "python",
            "pygments_lexer": "ipython3",
            "version": "3.6.9"
        }
    },
    "nbformat": 4,
    "nbformat_minor": 1
}